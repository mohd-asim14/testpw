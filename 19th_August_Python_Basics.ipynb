{
 "cells": [
  {
   "cell_type": "code",
   "execution_count": 1,
   "id": "84ce2e1d-cb5e-4572-9597-71e210ff680a",
   "metadata": {},
   "outputs": [],
   "source": [
    "x=8\n",
    "y=16"
   ]
  },
  {
   "cell_type": "code",
   "execution_count": 2,
   "id": "43e4dbd6-7c19-489e-b19d-4d7c330c8f36",
   "metadata": {},
   "outputs": [],
   "source": [
    "'''step 1 x=x+y\n",
    "here x=8 and y=16 sum is 24'''\n",
    "x=x+y # here x holds the sum of the values of x and y"
   ]
  },
  {
   "cell_type": "code",
   "execution_count": 3,
   "id": "39e4297d-6e3a-4e6f-8403-6895b0777fca",
   "metadata": {},
   "outputs": [],
   "source": [
    "'''step 2 y=x-y\n",
    "here the x=24 and y=16'''\n",
    "y=x-y # here y holds the results\n",
    "#now the value of the y is y=8 and x value is x=24 previous value only no change"
   ]
  },
  {
   "cell_type": "code",
   "execution_count": 4,
   "id": "d78494e3-4e02-4821-95ea-5279e5938cfb",
   "metadata": {},
   "outputs": [],
   "source": [
    "'''step 3 x=x-y\n",
    "here x=24 and y=8'''\n",
    "x=x-y # here the x holds the value of the result\n",
    "# now the value of the x changes to x=16 and y remains same y=8"
   ]
  },
  {
   "cell_type": "code",
   "execution_count": 11,
   "id": "7fbb8bd3-a13b-415d-b49d-1f11269600c6",
   "metadata": {},
   "outputs": [
    {
     "name": "stdout",
     "output_type": "stream",
     "text": [
      "After Swaping:\n",
      "x= 16\n",
      "y= 8\n"
     ]
    }
   ],
   "source": [
    "#displaying the result after swaping\n",
    "print(\"After Swaping:\")\n",
    "print(\"x=\",x)\n",
    "print(\"y=\",y)\n",
    "# here when define the variable with a value ex: x=2\n",
    "# the values will be 2 till then we change it ex:x=7\n",
    "# now we print the value of the x, the result will be 7"
   ]
  },
  {
   "cell_type": "code",
   "execution_count": 12,
   "id": "b2dbe358-131d-4264-bd70-62d03fe04d3a",
   "metadata": {},
   "outputs": [
    {
     "name": "stdin",
     "output_type": "stream",
     "text": [
      "Enter the Length of Rectangle: 4\n",
      "Now Enter the Width of the Rectangle: 2\n"
     ]
    },
    {
     "name": "stdout",
     "output_type": "stream",
     "text": [
      "8.0\n"
     ]
    }
   ],
   "source": [
    "#here when user enter the value of the length store in lent variable \n",
    "# width value store in the variable widt\n",
    "lent=float(input(\"Enter the Length of Rectangle:\")) #float is used to convert the result from string to numeric value \n",
    "#and input is a function used to take the input from the user\n",
    "widt=float(input(\"Now Enter the Width of the Rectangle:\"))\n",
    "areat=lent*widt\n",
    "print(areat)"
   ]
  },
  {
   "cell_type": "code",
   "execution_count": 13,
   "id": "3a7d892e-90e3-4e66-9e3c-f3f1ec3b93ea",
   "metadata": {},
   "outputs": [
    {
     "name": "stdin",
     "output_type": "stream",
     "text": [
      "Enter the Temperature to convert from the Celsius to Fahrenheit: 32\n"
     ]
    },
    {
     "name": "stdout",
     "output_type": "stream",
     "text": [
      "89.6\n"
     ]
    }
   ],
   "source": [
    "cel=float(input(\"Enter the Temperature to convert from the Celsius to Fahrenheit:\"))\n",
    "fah=(cel*9/5)+ 32\n",
    "print(fah)"
   ]
  },
  {
   "cell_type": "code",
   "execution_count": 14,
   "id": "084c44f2-ec8f-4019-ac9f-e5bc6cf86767",
   "metadata": {},
   "outputs": [
    {
     "name": "stdin",
     "output_type": "stream",
     "text": [
      "Enter the String to count the lengt: mohammedasimsameer\n"
     ]
    },
    {
     "name": "stdout",
     "output_type": "stream",
     "text": [
      "18\n"
     ]
    }
   ],
   "source": [
    "#lets define a variable name lenth_str\n",
    "#after that define another variable called str_len\n",
    "lenth_str=input(\"Enter the String to count the lengt:\")\n",
    "str_len=len(lenth_str) # len is function to count the length\n",
    "#now print the str_len variable\n",
    "print(str_len)\n"
   ]
  },
  {
   "cell_type": "code",
   "execution_count": 24,
   "id": "0da728aa-d7cd-4c58-9343-ee6279946229",
   "metadata": {},
   "outputs": [
    {
     "name": "stdout",
     "output_type": "stream",
     "text": [
      "tsetym\n"
     ]
    }
   ],
   "source": [
    "#lets do with defing the variable\n",
    "string=\"mytest\"\n",
    "a=string[-1:-7:-1]\n",
    "print(a)"
   ]
  },
  {
   "cell_type": "code",
   "execution_count": 33,
   "id": "1a4ee2e9-6ff4-46d8-b9e9-98540644694c",
   "metadata": {},
   "outputs": [
    {
     "name": "stdin",
     "output_type": "stream",
     "text": [
      "Enter the String to check if it is a Palindrome: mom\n"
     ]
    },
    {
     "name": "stdout",
     "output_type": "stream",
     "text": [
      "Palindrome\n"
     ]
    }
   ],
   "source": [
    "#palindrome, if we reverse the string it remains same\n",
    "p=input(\"Enter the String to check if it is a Palindrome:\")\n",
    "#by using backward slicing method \n",
    "if p == p[::-1]:\n",
    "    print(\"Palindrome\")\n",
    "else:\n",
    "    print(\"Not a Palindrome\")"
   ]
  }
 ],
 "metadata": {
  "kernelspec": {
   "display_name": "Python 3 (ipykernel)",
   "language": "python",
   "name": "python3"
  },
  "language_info": {
   "codemirror_mode": {
    "name": "ipython",
    "version": 3
   },
   "file_extension": ".py",
   "mimetype": "text/x-python",
   "name": "python",
   "nbconvert_exporter": "python",
   "pygments_lexer": "ipython3",
   "version": "3.10.8"
  }
 },
 "nbformat": 4,
 "nbformat_minor": 5
}
