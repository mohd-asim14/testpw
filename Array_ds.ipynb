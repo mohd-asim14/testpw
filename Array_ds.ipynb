{
 "cells": [
  {
   "cell_type": "code",
   "execution_count": 19,
   "id": "ac631cdf-89bb-401a-b9d3-37fc2b283377",
   "metadata": {},
   "outputs": [
    {
     "name": "stdout",
     "output_type": "stream",
     "text": [
      "True\n"
     ]
    }
   ],
   "source": [
    "def has_dup(arr):#create a function ha_dup with having array 'arr'\n",
    "    unique_e = set(arr)#convert this into a set\n",
    "    #set removes the duplicate values automatically\n",
    "    return len(arr) != len(unique_e)\n",
    "    #checking length of the original array with unique_e\n",
    "    #if length is equals retun True if not False\n",
    "\n",
    "arr = [1,2,4,2,5,9]#given list\n",
    "result = has_dup(arr)\n",
    "print(result)"
   ]
  },
  {
   "cell_type": "code",
   "execution_count": 29,
   "id": "8f946897-c45b-440f-a29a-331d8fadda67",
   "metadata": {},
   "outputs": [
    {
     "name": "stdout",
     "output_type": "stream",
     "text": [
      "[5, 6, 7, 1, 2, 3, 4]\n"
     ]
    }
   ],
   "source": [
    "def rotate_arr(arr,k):\n",
    "    #definig the functions and array 'arr' and variable 'k'\n",
    "    rotated_arr = arr[-k:] + arr[:-k] \n",
    "    #using slicing array and concatenation\n",
    "    return rotated_arr\n",
    "arr = [1, 2, 3, 4, 5, 6, 7]#array\n",
    "k = 3#steps\n",
    "result = rotate_arr(arr, k)\n",
    "print(result)#printing the result"
   ]
  },
  {
   "cell_type": "code",
   "execution_count": 54,
   "id": "e19a5e9c-7662-4229-8198-718c68d5f613",
   "metadata": {},
   "outputs": [
    {
     "name": "stdout",
     "output_type": "stream",
     "text": [
      "[1, 2, 3, 4, 5, 6, 7]\n"
     ]
    }
   ],
   "source": [
    "def rotate_arr(arr):\n",
    "    #definig the functions and array 'arr' and variable 'k'\n",
    "    rotated_arr = arr[-7:] + arr[:-7] \n",
    "    #using slicing array and concatenation\n",
    "    return rotated_arr\n",
    "arr = [1, 2, 3, 4, 5, 6, 7]#array\n",
    "result = rotate_arr(arr)\n",
    "print(result)#printing the result"
   ]
  },
  {
   "cell_type": "code",
   "execution_count": 34,
   "id": "534f83a3-6606-4ddc-9f2b-f2df07f8078c",
   "metadata": {},
   "outputs": [
    {
     "name": "stdout",
     "output_type": "stream",
     "text": [
      "20\n"
     ]
    }
   ],
   "source": [
    "def max_arr(arr):\n",
    "    #definig the functions and array 'arr'\n",
    "    max_array = max(arr)\n",
    "    #using max function\n",
    "    return max_array\n",
    "arr = [10, 5, 20, 8, 15]\n",
    "result = max_arr(arr)\n",
    "print(result)#printing result"
   ]
  },
  {
   "cell_type": "code",
   "execution_count": 49,
   "id": "daba4d69-de68-49fd-a623-1b44ab993add",
   "metadata": {},
   "outputs": [
    {
     "name": "stdout",
     "output_type": "stream",
     "text": [
      "[1, 2, 3, 4, 5]\n"
     ]
    }
   ],
   "source": [
    "def ha_dup(arr):\n",
    "    # Create a function 'ha_dup' that takes an array 'arr' as input.\n",
    "    \n",
    "    unique_set = set(arr)  \n",
    "    # Convert the array into a set to remove duplicates.\n",
    "    \n",
    "    unique_list = list(unique_set)  \n",
    "    # Convert the unique set back to a list.\n",
    "    \n",
    "    return unique_list  \n",
    "    # Return the list containing unique elements.\n",
    "\n",
    "arr = [1, 1, 2, 2, 2, 3, 3, 4, 4, 4, 5, 5] \n",
    "# Given list with duplicates\n",
    "result = ha_dup(arr)  \n",
    "# Call the function to remove duplicates\n",
    "print(result) \n",
    "# Print the list with duplicates removed\n"
   ]
  },
  {
   "cell_type": "code",
   "execution_count": null,
   "id": "86ee7a75-8558-4061-be52-a5a675f723d2",
   "metadata": {},
   "outputs": [],
   "source": []
  }
 ],
 "metadata": {
  "kernelspec": {
   "display_name": "Python 3 (ipykernel)",
   "language": "python",
   "name": "python3"
  },
  "language_info": {
   "codemirror_mode": {
    "name": "ipython",
    "version": 3
   },
   "file_extension": ".py",
   "mimetype": "text/x-python",
   "name": "python",
   "nbconvert_exporter": "python",
   "pygments_lexer": "ipython3",
   "version": "3.10.8"
  }
 },
 "nbformat": 4,
 "nbformat_minor": 5
}
