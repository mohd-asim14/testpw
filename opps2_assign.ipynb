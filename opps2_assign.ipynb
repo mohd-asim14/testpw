{
 "cells": [
  {
   "cell_type": "code",
   "execution_count": null,
   "metadata": {},
   "outputs": [],
   "source": [
    "\"\"\"1. What is a constructor in Python? Explain its purpose and usage.\n",
    "A constructor in Python is a special method defined in a class that is automatically called when an object of the class is created. Its purpose is to initialize the attributes of the object.\n",
    "\n",
    "Usage:\n",
    "\n",
    "To set up initial values for the object attributes.\n",
    "To perform setup tasks for the object when it is instantiated.\"\"\"\"\n"
   ]
  },
  {
   "cell_type": "code",
   "execution_count": null,
   "metadata": {},
   "outputs": [],
   "source": [
    "\"\"\"\n",
    "Parameterless Constructor:\n",
    "Does not take any arguments except self.\n",
    "Used to initialize attributes with default values.\n",
    "Example: def __init__(self):\n",
    "\n",
    "Parameterized Constructor:\n",
    "Takes one or more arguments besides self.\n",
    "Used to initialize attributes with specific values provided during object creation.\n",
    "Example: def __init__(self, name):\n",
    "\"\"\""
   ]
  },
  {
   "cell_type": "code",
   "execution_count": null,
   "metadata": {},
   "outputs": [],
   "source": [
    "\"\"\"3. How do you define a constructor in a Python class? Provide an example.\n",
    "A constructor is defined using the __init__ method in Python. It is always named __init__ and is called automatically when an object is created.\n",
    "\n",
    "Example:\n",
    "\n",
    "python\n",
    "Copy\n",
    "Edit\n",
    "class Example:\n",
    "    def __init__(self, value):\n",
    "        self.value = value  # Initialize the attribute\n",
    "\n",
    "# Create an object\n",
    "obj = Example(10)\n",
    "print(obj.value)  # Output: 10\n",
    "\"\"\""
   ]
  },
  {
   "cell_type": "code",
   "execution_count": null,
   "metadata": {},
   "outputs": [],
   "source": [
    "\"\"\"4. Explain the __init__ method in Python and its role in constructors.\n",
    "The __init__ method is a special method in Python that acts as the constructor. It is used to initialize the attributes of a class and perform any setup tasks when an object is created.\n",
    "\n",
    "Role:\n",
    "\n",
    "Assigns initial values to object attributes.\n",
    "Prepares the object for use immediately after it is created\"\"\""
   ]
  },
  {
   "cell_type": "code",
   "execution_count": null,
   "metadata": {},
   "outputs": [],
   "source": [
    "\"\"\"5. In a class named Person, create a constructor that initializes the name and age attributes. Provide an example of creating an object of this class.\n",
    "Code Example:\n",
    "\n",
    "python\n",
    "Copy\n",
    "Edit\n",
    "class Person:\n",
    "    def __init__(self, name, age):\n",
    "        self.name = name\n",
    "        self.age = age\n",
    "\n",
    "# Creating an object of the class\n",
    "person1 = Person(\"Alice\", 25)\n",
    "print(person1.name)  # Output: Alice\n",
    "print(person1.age)   # Output: 25\"\"\""
   ]
  },
  {
   "cell_type": "code",
   "execution_count": null,
   "metadata": {},
   "outputs": [],
   "source": [
    "\"\"\"6. How can you call a constructor explicitly in Python? Give an example.\n",
    "In Python, constructors can be explicitly called by creating a new object using the class name.\n",
    "\n",
    "Example:\n",
    "\n",
    "python\n",
    "Copy\n",
    "Edit\n",
    "class Example:\n",
    "    def __init__(self, value):\n",
    "        self.value = value\n",
    "\n",
    "# Explicitly calling the constructor\n",
    "obj = Example(10)\n",
    "print(obj.value)  # Output: 10\"\"\""
   ]
  },
  {
   "cell_type": "code",
   "execution_count": null,
   "metadata": {},
   "outputs": [],
   "source": [
    "\"\"\"7. What is the significance of the self parameter in Python constructors? Explain with an example.\n",
    "The self parameter represents the instance of the class. It is used to access the attributes and methods of the class in the constructor or other methods.\n",
    "\n",
    "Example:\n",
    "\n",
    "python\n",
    "Copy\n",
    "Edit\n",
    "class Example:\n",
    "    def __init__(self, value):\n",
    "        self.value = value  # Use `self` to assign value to the instance\n",
    "\n",
    "    def display(self):\n",
    "        print(f\"The value is {self.value}\")\n",
    "\n",
    "obj = Example(20)\n",
    "obj.display()  # Output: The value is 20\"\"\""
   ]
  },
  {
   "cell_type": "code",
   "execution_count": null,
   "metadata": {},
   "outputs": [],
   "source": [
    "#inheritence\n"
   ]
  },
  {
   "cell_type": "code",
   "execution_count": null,
   "metadata": {},
   "outputs": [],
   "source": [
    "\"\"\"1. What is inheritance in Python? Explain its significance in object-oriented programming.\n",
    "Inheritance is a feature of object-oriented programming that allows a class (child class) to inherit the attributes and methods of another class (parent class).\n",
    "\n",
    "Significance:\n",
    "\n",
    "Promotes code reuse by allowing existing functionality to be extended.\n",
    "Enables hierarchical classification.\n",
    "Simplifies code maintenance and reduces redundancy.\n",
    "Supports polymorphism by allowing child classes to override parent methods.\n",
    "\"\"\""
   ]
  },
  {
   "cell_type": "code",
   "execution_count": null,
   "metadata": {},
   "outputs": [],
   "source": [
    "\"\"\"2. Differentiate between single inheritance and multiple inheritance in Python. Provide examples for each.\n",
    "Single Inheritance:\n",
    "A child class inherits from a single parent class.\n",
    "Simpler and less prone to complexity issues\n",
    "\n",
    "Multiple Inheritance:\n",
    "A child class inherits from two or more parent classes.\n",
    "Can lead to ambiguity (e.g., Diamond Problem).\n",
    "\n",
    "\"\"\""
   ]
  },
  {
   "cell_type": "code",
   "execution_count": null,
   "metadata": {},
   "outputs": [],
   "source": [
    "#Single Inheritance:\n",
    "class Parent:\n",
    "    def display(self):\n",
    "        print(\"Parent class method\")\n",
    "\n",
    "class Child(Parent):\n",
    "    pass\n",
    "\n",
    "obj = Child()\n",
    "obj.display()  # Output: Parent class method\n"
   ]
  },
  {
   "cell_type": "code",
   "execution_count": null,
   "metadata": {},
   "outputs": [],
   "source": [
    "#Multiple Inheritance:\n",
    "class Parent1:\n",
    "    def method1(self):\n",
    "        print(\"Parent1 method\")\n",
    "\n",
    "class Parent2:\n",
    "    def method2(self):\n",
    "        print(\"Parent2 method\")\n",
    "\n",
    "class Child(Parent1, Parent2):\n",
    "    pass\n",
    "\n",
    "obj = Child()\n",
    "obj.method1()  # Output: Parent1 method\n",
    "obj.method2()  # Output: Parent2 method\n"
   ]
  },
  {
   "cell_type": "code",
   "execution_count": null,
   "metadata": {},
   "outputs": [],
   "source": [
    "\n",
    "\"\"\"3. Create a Python class called Vehicle with attributes color and speed. Then, create a child class called Car that inherits from Vehicle and adds a brand attribute. Provide an example of creating a Car object.\"\"\"\n",
    "class Vehicle:\n",
    "    def __init__(self, color, speed):\n",
    "        self.color = color\n",
    "        self.speed = speed\n",
    "\n",
    "class Car(Vehicle):\n",
    "    def __init__(self, color, speed, brand):\n",
    "        super().__init__(color, speed)\n",
    "        self.brand = brand\n",
    "\n",
    "# Creating a Car object\n",
    "car = Car(\"Red\", 120, \"Toyota\")\n",
    "print(f\"Color: {car.color}, Speed: {car.speed}, Brand: {car.brand}\")\n",
    "# Output: Color: Red, Speed: 120, Brand: Toyota\n"
   ]
  },
  {
   "cell_type": "code",
   "execution_count": null,
   "metadata": {},
   "outputs": [],
   "source": [
    "\"\"\"4. Explain the concept of method overriding in inheritance. Provide a practical example.\n",
    "Method overriding occurs when a child class defines a method with the same name as a method in its parent class. The method in the child class overrides the one in the parent class when called on a child object.\n",
    "\"\"\"\n",
    "class Parent:\n",
    "    def display(self):\n",
    "        print(\"Parent class display method\")\n",
    "\n",
    "class Child(Parent):\n",
    "    def display(self):  # Overriding the parent method\n",
    "        print(\"Child class display method\")\n",
    "\n",
    "obj = Child()\n",
    "obj.display()  # Output: Child class display method\n"
   ]
  },
  {
   "cell_type": "code",
   "execution_count": null,
   "metadata": {},
   "outputs": [],
   "source": [
    "\"\"\"5. How can you access the methods and attributes of a parent class from a child class in Python? Give an example.\n",
    "You can access the parent class's methods and attributes using the super() function or by explicitly referencing the parent class.\n",
    "\n",
    "Example using super():\"\"\"\n",
    "class Parent:\n",
    "    def display(self):\n",
    "        print(\"Parent class method\")\n",
    "\n",
    "class Child(Parent):\n",
    "    def display(self):\n",
    "        super().display()  # Call the parent class method\n",
    "        print(\"Child class method\")\n",
    "\n",
    "obj = Child()\n",
    "obj.display()\n",
    "# Output:\n",
    "# Parent class method\n",
    "# Child class method\n"
   ]
  }
 ],
 "metadata": {
  "kernelspec": {
   "display_name": "Python 3",
   "language": "python",
   "name": "python3"
  },
  "language_info": {
   "codemirror_mode": {
    "name": "ipython",
    "version": 3
   },
   "file_extension": ".py",
   "mimetype": "text/x-python",
   "name": "python",
   "nbconvert_exporter": "python",
   "pygments_lexer": "ipython3",
   "version": "3.10.9"
  }
 },
 "nbformat": 4,
 "nbformat_minor": 2
}
