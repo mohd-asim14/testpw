{
 "cells": [
  {
   "cell_type": "code",
   "execution_count": 2,
   "id": "471db9c5-2a5f-45f8-ade8-df76e80fc75d",
   "metadata": {},
   "outputs": [
    {
     "name": "stdout",
     "output_type": "stream",
     "text": [
      "0\n",
      "1\n",
      "2\n",
      "3\n",
      "4\n",
      "5\n",
      "6\n",
      "7\n",
      "8\n",
      "9\n"
     ]
    }
   ],
   "source": [
    "for i in range(10):\n",
    "    print(i)\n"
   ]
  },
  {
   "cell_type": "code",
   "execution_count": 20,
   "id": "cb869754-1d57-4d03-8652-c9751f6269ba",
   "metadata": {},
   "outputs": [
    {
     "name": "stdout",
     "output_type": "stream",
     "text": [
      "10\n"
     ]
    }
   ],
   "source": [
    "sum=0\n",
    "num_list=[1,2,3,4]\n",
    "for i in num_list:\n",
    "    sum = sum + i\n",
    "print(sum)"
   ]
  },
  {
   "cell_type": "code",
   "execution_count": 21,
   "id": "36e58028-daba-4cc3-b0bd-dec370cdd0d7",
   "metadata": {},
   "outputs": [
    {
     "name": "stdout",
     "output_type": "stream",
     "text": [
      "sllikswP\n"
     ]
    }
   ],
   "source": [
    "string=\"Pwskills\"\n",
    "for i in string:\n",
    "    strr=string[::-1]\n",
    "print(strr)    "
   ]
  },
  {
   "cell_type": "code",
   "execution_count": 32,
   "id": "eb20b744-591e-4776-93bd-1ed96a53f3e2",
   "metadata": {},
   "outputs": [
    {
     "name": "stdin",
     "output_type": "stream",
     "text": [
      "Enter the value: 4\n"
     ]
    },
    {
     "name": "stdout",
     "output_type": "stream",
     "text": [
      "24\n"
     ]
    }
   ],
   "source": [
    "f = int(input(\"Enter the value:\"))\n",
    "fact=1\n",
    "for i in range(1,f+1):\n",
    "    fact=fact*i\n",
    "print(fact)    "
   ]
  },
  {
   "cell_type": "code",
   "execution_count": 42,
   "id": "e7db0364-2e5c-408a-b6b9-9420bbbde897",
   "metadata": {},
   "outputs": [
    {
     "name": "stdin",
     "output_type": "stream",
     "text": [
      "Enter the number: 3\n"
     ]
    },
    {
     "name": "stdout",
     "output_type": "stream",
     "text": [
      "--> 3 x 1 = 3.\n",
      "--> 3 x 2 = 6.\n",
      "--> 3 x 3 = 9.\n",
      "--> 3 x 4 = 12.\n",
      "--> 3 x 5 = 15.\n",
      "--> 3 x 6 = 18.\n",
      "--> 3 x 7 = 21.\n",
      "--> 3 x 8 = 24.\n",
      "--> 3 x 9 = 27.\n",
      "--> 3 x 10 = 30.\n"
     ]
    }
   ],
   "source": [
    "num=int(input(\"Enter the number:\"))\n",
    "for i in range(1,11):\n",
    "    p= num * i\n",
    "    print(f\"--> {num} x {i} = {p}.\")    "
   ]
  },
  {
   "cell_type": "code",
   "execution_count": 5,
   "id": "b00a538c-6b05-4701-be5e-85a93dd7ce8d",
   "metadata": {},
   "outputs": [
    {
     "name": "stdout",
     "output_type": "stream",
     "text": [
      " Number of a Even number 5\n",
      " Number of a Odd number 5\n"
     ]
    }
   ],
   "source": [
    "l1=[1,2,3,4,5,6,7,8,9,10]\n",
    "even=0\n",
    "odd=0\n",
    "for i in l1:\n",
    "    if i % 2 == 0:\n",
    "        even=even+1\n",
    "    else:\n",
    "        odd=odd + 1\n",
    "print(f\" Number of a Even number {even}\")\n",
    "print(f\" Number of a Odd number {odd}\")\n",
    "        "
   ]
  },
  {
   "cell_type": "code",
   "execution_count": 12,
   "id": "5b103357-f5d0-4727-be4d-8443b7a46201",
   "metadata": {},
   "outputs": [
    {
     "name": "stdout",
     "output_type": "stream",
     "text": [
      " The Square of 1 is 1.\n",
      " The Square of 2 is 4.\n",
      " The Square of 3 is 9.\n",
      " The Square of 4 is 16.\n",
      " The Square of 5 is 25.\n"
     ]
    }
   ],
   "source": [
    "for i in range(1,6):\n",
    "    s=i*i\n",
    "    print(f\" The Square of {i} is {s}.\")"
   ]
  },
  {
   "cell_type": "code",
   "execution_count": 14,
   "id": "326b0458-0bbf-4802-8a21-50d4b287d6ae",
   "metadata": {},
   "outputs": [
    {
     "name": "stdin",
     "output_type": "stream",
     "text": [
      "Enter a string: asimsameer\n"
     ]
    },
    {
     "name": "stdout",
     "output_type": "stream",
     "text": [
      "The length of the string is: 10\n"
     ]
    }
   ],
   "source": [
    "count=0\n",
    "s=input(\"Enter a string:\")\n",
    "for i in s:\n",
    "    count=count+1\n",
    "print(f\"The length of the string is: {count}\"\n",
    "     )"
   ]
  },
  {
   "cell_type": "code",
   "execution_count": 17,
   "id": "9a9cda65-58cc-4aba-adcd-babbe09f5cbb",
   "metadata": {},
   "outputs": [
    {
     "name": "stdout",
     "output_type": "stream",
     "text": [
      "3.5\n"
     ]
    }
   ],
   "source": [
    "avg=0\n",
    "lists_num=[1,2,3,4,5,6]\n",
    "sum=0\n",
    "for i in lists_num:\n",
    "    sum+=i\n",
    "avg=sum/len(lists_num)\n",
    "print(avg)"
   ]
  },
  {
   "cell_type": "code",
   "execution_count": 21,
   "id": "0d91eb3c-2749-4bd4-9c42-83142d9ee812",
   "metadata": {},
   "outputs": [
    {
     "name": "stdin",
     "output_type": "stream",
     "text": [
      "Enter the value: 3\n"
     ]
    },
    {
     "name": "stdout",
     "output_type": "stream",
     "text": [
      "fibonacci seqeunce:\n",
      "0 1 1 "
     ]
    }
   ],
   "source": [
    "n=int(input(\"Enter the value:\"))\n",
    "fibs=[0,1]\n",
    "for i in range(2,n):\n",
    "    nth=fibs[-1] +fibs[-2]\n",
    "    fibs.append(nth)\n",
    "print(\"fibonacci seqeunce:\")\n",
    "for l in fibs[:n]:\n",
    "    print(l, end=\" \")\n",
    "    "
   ]
  },
  {
   "cell_type": "code",
   "execution_count": 3,
   "id": "5c5b7d82-a551-4f8a-81cd-33000721dfa5",
   "metadata": {},
   "outputs": [
    {
     "name": "stdout",
     "output_type": "stream",
     "text": [
      "The list has duplicate\n"
     ]
    }
   ],
   "source": [
    "def has_dup(lst):\n",
    "    empty_set=set()\n",
    "    for i in lst:\n",
    "        if i in empty_set:\n",
    "            return True\n",
    "        else:\n",
    "            empty_set.add(i)\n",
    "    return False\n",
    "list1=[1,2,3,4,5,4]\n",
    "r=has_dup(list1)\n",
    "if r:\n",
    "    print(\"The list has duplicate\")\n",
    "else: \n",
    "    print(\"The list does not have duplicate\")"
   ]
  },
  {
   "cell_type": "code",
   "execution_count": 5,
   "id": "1d11064b-2425-4867-8e51-4ce9dbef9c43",
   "metadata": {},
   "outputs": [
    {
     "name": "stdin",
     "output_type": "stream",
     "text": [
      "enter the value : 1 2 3 4 4 \n"
     ]
    },
    {
     "name": "stdout",
     "output_type": "stream",
     "text": [
      "has dup\n"
     ]
    }
   ],
   "source": [
    "def dup(list2):\n",
    "    eset=set()\n",
    "    for i in list2:\n",
    "        if i in eset:\n",
    "            return True\n",
    "        else:\n",
    "            eset.add(i)\n",
    "    return False\n",
    "listl=list(input(\"enter the value :\"))\n",
    "result=dup(listl)\n",
    "if result:\n",
    "    print(\"has dup\")\n",
    "else:\n",
    "    print(\"doesn't have dup\")"
   ]
  },
  {
   "cell_type": "code",
   "execution_count": null,
   "id": "91e7e721-048a-401c-b8aa-6a23bf99f402",
   "metadata": {},
   "outputs": [],
   "source": []
  },
  {
   "cell_type": "code",
   "execution_count": null,
   "id": "be2c1054-aa9e-4a56-8c7b-fce43d30c0f4",
   "metadata": {},
   "outputs": [],
   "source": []
  },
  {
   "cell_type": "code",
   "execution_count": null,
   "id": "950c9fbf-b76f-49ad-9af3-c1ad7dc0abf8",
   "metadata": {},
   "outputs": [],
   "source": []
  }
 ],
 "metadata": {
  "kernelspec": {
   "display_name": "Python 3 (ipykernel)",
   "language": "python",
   "name": "python3"
  },
  "language_info": {
   "codemirror_mode": {
    "name": "ipython",
    "version": 3
   },
   "file_extension": ".py",
   "mimetype": "text/x-python",
   "name": "python",
   "nbconvert_exporter": "python",
   "pygments_lexer": "ipython3",
   "version": "3.10.8"
  }
 },
 "nbformat": 4,
 "nbformat_minor": 5
}
