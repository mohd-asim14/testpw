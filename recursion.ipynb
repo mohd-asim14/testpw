{
 "cells": [
  {
   "cell_type": "code",
   "execution_count": null,
   "metadata": {},
   "outputs": [],
   "source": [
    "\"\"\"Define a 2D DP table: Let dp[i][j] represent the minimum number of operations required to convert the first i characters of word1 to the first j characters of word2.\n",
    "\n",
    "Base Cases:\n",
    "\n",
    "dp[0][j]: It takes j operations to convert an empty string to the first j characters of word2 (all insertions).\n",
    "dp[i][0]: It takes i operations to convert the first i characters of word1 to an empty string (all deletions).\n",
    "Recurrence Relation:\n",
    "\n",
    "If word1[i-1] == word2[j-1], then no operation is needed, and dp[i][j] = dp[i-1][j-1].\n",
    "If word1[i-1] != word2[j-1], then:\n",
    "Insertion: Insert word2[j-1] into word1, so dp[i][j] = dp[i][j-1] + 1.\n",
    "Deletion: Delete word1[i-1], so dp[i][j] = dp[i-1][j] + 1.\n",
    "Replacement: Replace word1[i-1] with word2[j-1], so dp[i][j] = dp[i-1][j-1] + 1.\n",
    "The final answer will be the value at dp[m][n], where m and n are the lengths of word1 and word2, respectively\"\"\""
   ]
  },
  {
   "cell_type": "code",
   "execution_count": null,
   "metadata": {},
   "outputs": [],
   "source": [
    "#Q. 3 Print the max value of the array [ 13, 1, -3, 22, 5].\n",
    "arr = [13, 1, -3, 22, 5]\n",
    "max_value = max(arr)\n",
    "print(max_value)\n"
   ]
  },
  {
   "cell_type": "code",
   "execution_count": 1,
   "metadata": {},
   "outputs": [
    {
     "name": "stdout",
     "output_type": "stream",
     "text": [
      "120\n"
     ]
    }
   ],
   "source": [
    "#Q.4 Find the sum of the values of the array [92, 23, 15, -20, 10].\n",
    "arr = [92, 23, 15, -20, 10]\n",
    "total_sum = sum(arr)\n",
    "print(total_sum)\n"
   ]
  },
  {
   "cell_type": "code",
   "execution_count": null,
   "metadata": {},
   "outputs": [],
   "source": [
    "\"\"\"Q.5 Given a number n. Print if it is an armstrong number or not.An armstrong number is a number if the sum\n",
    "of every digit in that number raised to the power of total digits in that number is equal to the number.\n",
    "Example : 153 = 1^3 + 5^3 + 3^3 = 1 + 125 + 27 = 153 hence 153 is an armstrong number. (Easy)\n",
    "Input1 : 153\n",
    "Output1 : Yes\n",
    "Input 2 : 134\n",
    "Output2 : No\"\"\"\n",
    "\n",
    "def is_armstrong(n):\n",
    "    digits = [int(digit) for digit in str(n)]  # Convert number to a list of digits\n",
    "    num_digits = len(digits)  # Count the number of digits\n",
    "    sum_of_powers = sum([digit ** num_digits for digit in digits])  # Sum of digits raised to the power of the number of digits\n",
    "    if sum_of_powers == n:\n",
    "        return \"Yes\"\n",
    "    else:\n",
    "        return \"No\"\n",
    "\n",
    "# Example usage\n",
    "print(is_armstrong(153))  # Output: Yes\n",
    "print(is_armstrong(134))  # Output: No\n"
   ]
  },
  {
   "cell_type": "code",
   "execution_count": null,
   "metadata": {},
   "outputs": [],
   "source": []
  },
  {
   "cell_type": "code",
   "execution_count": null,
   "metadata": {},
   "outputs": [],
   "source": []
  },
  {
   "cell_type": "code",
   "execution_count": null,
   "metadata": {},
   "outputs": [],
   "source": []
  }
 ],
 "metadata": {
  "kernelspec": {
   "display_name": "Python 3",
   "language": "python",
   "name": "python3"
  },
  "language_info": {
   "codemirror_mode": {
    "name": "ipython",
    "version": 3
   },
   "file_extension": ".py",
   "mimetype": "text/x-python",
   "name": "python",
   "nbconvert_exporter": "python",
   "pygments_lexer": "ipython3",
   "version": "3.10.9"
  }
 },
 "nbformat": 4,
 "nbformat_minor": 2
}
