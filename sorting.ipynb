{
 "cells": [
  {
   "cell_type": "code",
   "execution_count": null,
   "metadata": {},
   "outputs": [],
   "source": [
    "\"\"\"Problem 1:\"\"\"\n",
    "\n",
    "from collections import Counter\n",
    "\n",
    "def max_occurrence_element(arr):\n",
    "    freq = Counter(arr)\n",
    "    return max(freq, key=freq.get)\n",
    "\n",
    "# Example\n",
    "arr = [1, 2, 3, 2, 4, 2, 5]\n",
    "print(max_occurrence_element(arr))  # Output: 2\n"
   ]
  },
  {
   "cell_type": "code",
   "execution_count": null,
   "metadata": {},
   "outputs": [],
   "source": [
    "\"\"\"Problem 2:\"\"\"\n",
    "def find_missing_number(arr, n):\n",
    "    total_sum = n * (n + 1) // 2\n",
    "    array_sum = sum(arr)\n",
    "    return total_sum - array_sum\n",
    "\n",
    "# Example\n",
    "arr = [1, 2, 4, 6, 3, 7, 8]\n",
    "n = 8\n",
    "print(find_missing_number(arr, n))  # Output: 5\n"
   ]
  },
  {
   "cell_type": "code",
   "execution_count": null,
   "metadata": {},
   "outputs": [],
   "source": [
    "#Problem 3:\n",
    "\n",
    "def find_odd_occurrence(arr):\n",
    "    result = 0\n",
    "    for num in arr:\n",
    "        result ^= num\n",
    "    return result\n",
    "\n",
    "# Example\n",
    "arr = [1, 2, 3, 2, 3, 1, 3]\n",
    "print(find_odd_occurrence(arr))  # Output: 3\n"
   ]
  },
  {
   "cell_type": "code",
   "execution_count": null,
   "metadata": {},
   "outputs": [],
   "source": [
    "#Problem 4:\n",
    "def find_pair_with_sum(arr, K):\n",
    "    seen = set()\n",
    "    for num in arr:\n",
    "        if K - num in seen:\n",
    "            return num, K - num\n",
    "        seen.add(num)\n",
    "    return None\n",
    "\n",
    "# Example\n",
    "arr = [1, 2, 3, 4, 5]\n",
    "K = 6\n",
    "print(find_pair_with_sum(arr, K))  # Output: (2, 4)\n"
   ]
  },
  {
   "cell_type": "code",
   "execution_count": null,
   "metadata": {},
   "outputs": [],
   "source": []
  },
  {
   "cell_type": "code",
   "execution_count": null,
   "metadata": {},
   "outputs": [],
   "source": []
  },
  {
   "cell_type": "code",
   "execution_count": null,
   "metadata": {},
   "outputs": [],
   "source": []
  }
 ],
 "metadata": {
  "kernelspec": {
   "display_name": "Python 3",
   "language": "python",
   "name": "python3"
  },
  "language_info": {
   "codemirror_mode": {
    "name": "ipython",
    "version": 3
   },
   "file_extension": ".py",
   "mimetype": "text/x-python",
   "name": "python",
   "nbconvert_exporter": "python",
   "pygments_lexer": "ipython3",
   "version": "3.10.9"
  }
 },
 "nbformat": 4,
 "nbformat_minor": 2
}
