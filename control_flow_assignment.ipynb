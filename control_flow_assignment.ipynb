{
 "cells": [
  {
   "cell_type": "code",
   "execution_count": 2,
   "id": "c4e692fd-5fbc-4dc1-b201-7b51e0d846e5",
   "metadata": {},
   "outputs": [
    {
     "name": "stdin",
     "output_type": "stream",
     "text": [
      "Enter the value: 0\n"
     ]
    },
    {
     "name": "stdout",
     "output_type": "stream",
     "text": [
      "It is a zero!\n"
     ]
    }
   ],
   "source": [
    "number=float(input(\"Enter the value:\"))\n",
    "if number >0:\n",
    "    print(\"It is a Positive!\")\n",
    "elif number < 0:\n",
    "    print(\"It is a Negative!\")\n",
    "else:\n",
    "    print(\"It is a zero!\")"
   ]
  },
  {
   "cell_type": "code",
   "execution_count": 5,
   "id": "5d55b22f-3aba-4690-8008-9c59d81308f2",
   "metadata": {},
   "outputs": [
    {
     "name": "stdin",
     "output_type": "stream",
     "text": [
      "Enter your age: 14\n"
     ]
    },
    {
     "name": "stdout",
     "output_type": "stream",
     "text": [
      "Your not eligible to vote\n"
     ]
    }
   ],
   "source": [
    "age=int(input(\"Enter your age:\"))\n",
    "if age >= 17:\n",
    "    print(\"Your eligible to vote\")\n",
    "else:\n",
    "    print(\"Your not eligible to vote\")\n"
   ]
  },
  {
   "cell_type": "code",
   "execution_count": 8,
   "id": "50ecff7c-b9a4-46a4-898e-415038cb8884",
   "metadata": {},
   "outputs": [
    {
     "name": "stdin",
     "output_type": "stream",
     "text": [
      "Enter the first value 3\n",
      "Enter the second value: 5\n"
     ]
    },
    {
     "name": "stdout",
     "output_type": "stream",
     "text": [
      "Second number is maximum\n"
     ]
    }
   ],
   "source": [
    "number1=float(input(\"Enter the first value\"))\n",
    "number2=float(input(\"Enter the second value:\"))\n",
    "if number1 > number2:\n",
    "    print( \"First number is maximum\")\n",
    "else:\n",
    "    print(\"Second number is maximum\")"
   ]
  },
  {
   "cell_type": "code",
   "execution_count": 11,
   "id": "a5927a2e-1ef1-469c-bd0f-65d80264548a",
   "metadata": {},
   "outputs": [
    {
     "name": "stdin",
     "output_type": "stream",
     "text": [
      "Enter the year: 2025\n"
     ]
    },
    {
     "name": "stdout",
     "output_type": "stream",
     "text": [
      "Not a leap year\n"
     ]
    }
   ],
   "source": [
    "year=int(input(\"Enter the year:\"))\n",
    "if (year % 4 == 0 and year % 100 != 0) and (year % 400 == 0):\n",
    "    print(\"It's a Leap year\")\n",
    "else:\n",
    "    print(\"Not a leap year\")\n",
    "    "
   ]
  },
  {
   "cell_type": "code",
   "execution_count": 15,
   "id": "cd7bed3c-93b5-477d-bd57-f4cadc98acd4",
   "metadata": {},
   "outputs": [
    {
     "name": "stdin",
     "output_type": "stream",
     "text": [
      "Enter the string: asim\n"
     ]
    },
    {
     "name": "stdout",
     "output_type": "stream",
     "text": [
      "asim is consonant.\n"
     ]
    }
   ],
   "source": [
    "i=input(\"Enter the string:\")\n",
    "i=i.lower()\n",
    "if i.isalpha():\n",
    "    if i in 'aeiou':\n",
    "        print(f\"{i} is Vowel.\")\n",
    "    else:\n",
    "        print(f\"{i} is consonant.\")\n",
    "else:\n",
    "    print(\"Invalid input, please check the input.\") "
   ]
  },
  {
   "cell_type": "code",
   "execution_count": 18,
   "id": "7349aee2-4693-4f88-ae30-eebe7ecf0cf0",
   "metadata": {},
   "outputs": [
    {
     "name": "stdin",
     "output_type": "stream",
     "text": [
      "Enter the Value: 4\n"
     ]
    },
    {
     "name": "stdout",
     "output_type": "stream",
     "text": [
      "It is a Even number\n"
     ]
    }
   ],
   "source": [
    "number=float(input(\"Enter the Value:\"))\n",
    "if number % 2 == 0:\n",
    "    print(\"It is a Even number\")\n",
    "else:\n",
    "    print(\"It is a Odd number\")"
   ]
  },
  {
   "cell_type": "code",
   "execution_count": 27,
   "id": "793929ab-9729-453f-9cb5-4027597f7943",
   "metadata": {},
   "outputs": [
    {
     "name": "stdin",
     "output_type": "stream",
     "text": [
      "Enter the value: -9\n"
     ]
    },
    {
     "name": "stdout",
     "output_type": "stream",
     "text": [
      " The Absolute value of -9.0 is 9.0\n"
     ]
    }
   ],
   "source": [
    "def absol_num(number):\n",
    "    if number < 0:\n",
    "        return -number\n",
    "    else:\n",
    "        return number\n",
    "num=float(input(\"Enter the value:\"))\n",
    "a=absol_num(num)\n",
    "print(f\" The Absolute value of {num} is {a}\")"
   ]
  },
  {
   "cell_type": "code",
   "execution_count": 29,
   "id": "2738780d-4df6-4a04-88f0-a810b505c288",
   "metadata": {},
   "outputs": [
    {
     "name": "stdin",
     "output_type": "stream",
     "text": [
      "Enter the value of First number 1\n",
      "Enter the value of Second number 2\n",
      "Enter the value of Third number 4\n"
     ]
    },
    {
     "name": "stdout",
     "output_type": "stream",
     "text": [
      "The Third Number is Largest\n"
     ]
    }
   ],
   "source": [
    "n1=float(input(\"Enter the value of First number\"))\n",
    "n2=float(input(\"Enter the value of Second number\"))\n",
    "n3=float(input(\"Enter the value of Third number\"))\n",
    "if (n1 >= n2) and ( n1 >= n3):\n",
    "    print(\"The First number is Largest\")\n",
    "elif (n2 >= n1) and (n2 >= n3):\n",
    "    print(\"The Second number is Largest\")\n",
    "else:\n",
    "    print(\"The Third Number is Largest\")"
   ]
  },
  {
   "cell_type": "code",
   "execution_count": 31,
   "id": "f39dc6c2-8e64-4ec0-80f3-bf26b165ba8b",
   "metadata": {},
   "outputs": [
    {
     "name": "stdin",
     "output_type": "stream",
     "text": [
      "Enter the value: asim\n"
     ]
    },
    {
     "name": "stdout",
     "output_type": "stream",
     "text": [
      "Not a Palindrome\n"
     ]
    }
   ],
   "source": [
    "s=input(\"Enter the value:\")\n",
    "if s==s[::-1]:\n",
    "    print(\"Palindrome\")\n",
    "else:\n",
    "    print(\"Not a Palindrome\")"
   ]
  },
  {
   "cell_type": "code",
   "execution_count": 2,
   "id": "09a3ca0d-4c55-4c79-8310-70a8905b4cab",
   "metadata": {},
   "outputs": [
    {
     "name": "stdin",
     "output_type": "stream",
     "text": [
      "Enter the value: 80\n"
     ]
    },
    {
     "name": "stdout",
     "output_type": "stream",
     "text": [
      "The Student grade is B\n"
     ]
    }
   ],
   "source": [
    "v=float(input(\"Enter the value:\"))\n",
    "if v>= 90:\n",
    "    g=\"A\"\n",
    "elif v>=80:\n",
    "    g=\"B\"\n",
    "elif v>=70:\n",
    "    g=\"C\"\n",
    "elif v>=60:\n",
    "    g=\"D\"\n",
    "else:\n",
    "    g=\"F\"\n",
    "print(f\"The Student grade is {g}\")\n",
    "    "
   ]
  },
  {
   "cell_type": "code",
   "execution_count": 3,
   "id": "8c25fd92-48cd-48f0-81a0-171c15fbb341",
   "metadata": {},
   "outputs": [
    {
     "name": "stdin",
     "output_type": "stream",
     "text": [
      "Enter the value of First number 2\n",
      "Enter the value of Second number 3\n",
      "Enter the value of Third number 4\n"
     ]
    },
    {
     "name": "stdout",
     "output_type": "stream",
     "text": [
      "The Largest number is 4.0\n"
     ]
    }
   ],
   "source": [
    "n1=float(input(\"Enter the value of First number\"))\n",
    "n2=float(input(\"Enter the value of Second number\"))\n",
    "n3=float(input(\"Enter the value of Third number\"))\n",
    "if n1 >= n2:\n",
    "    if n1>= n3:\n",
    "        l=n1\n",
    "    else:\n",
    "        l=n3\n",
    "else:\n",
    "    if n2 >= n1:\n",
    "        if n2 >= n3:\n",
    "            l=n2\n",
    "        else:\n",
    "            l=n3\n",
    "print(f\"The Largest number is {l}\")\n",
    "            "
   ]
  },
  {
   "cell_type": "code",
   "execution_count": 8,
   "id": "2feaf221-e184-42fc-98f0-9bfe8d5eb521",
   "metadata": {},
   "outputs": [
    {
     "name": "stdin",
     "output_type": "stream",
     "text": [
      "Enter the Side1: 1\n",
      "Enter the Side2: 3\n",
      "Enter the Side3: 4\n"
     ]
    },
    {
     "name": "stdout",
     "output_type": "stream",
     "text": [
      "Invalid triangle\n"
     ]
    }
   ],
   "source": [
    "s1=float(input(\"Enter the Side1:\"))\n",
    "s2=float(input(\"Enter the Side2:\"))\n",
    "s3=float(input(\"Enter the Side3:\"))\n",
    "if (s1==s2==s3):\n",
    "    t=\"Equilateral\"\n",
    "elif (s1==s2) or (s1==s3) or (s2==s3):\n",
    "    t=\"Isosceles\"\n",
    "else:\n",
    "    t=\"Scalene\"\n",
    "if (s1+s2>s3) and (s1+s3>s3) and (s2+s3>s1):\n",
    "    print(f\"The Triangle is a {t} triangle\")\n",
    "else:\n",
    "    print(\"Invalid triangle\")\n",
    "    "
   ]
  },
  {
   "cell_type": "code",
   "execution_count": 9,
   "id": "21892425-af02-416e-bb5f-a2b41903bf69",
   "metadata": {},
   "outputs": [
    {
     "name": "stdin",
     "output_type": "stream",
     "text": [
      "Enter the year to check: 2025\n"
     ]
    }
   ],
   "source": [
    "y=int(input(\"Enter the year to check:\"))\n",
    "if y % 4 == 0:\n",
    "    if y % 100 !=0:\n",
    "        if y % 400 ==0:\n",
    "            l=True\n",
    "        else:\n",
    "            l=False\n",
    "    else:\n",
    "        l=True\n",
    "else:\n",
    "    c=False\n",
    "if y % 100 == 0:\n",
    "    c=True\n",
    "else:\n",
    "    l=False\n",
    "if l and c:\n",
    "    print(f\"{y} is leap year and century year.\")\n",
    "elif l:\n",
    "    print(f\"{y} is leap year.\")\n",
    "elif c:\n",
    "    print(f\"{y} is century year.\")\n",
    "else:\n",
    "    (f\"{y} is neither leap nor century year.\")"
   ]
  },
  {
   "cell_type": "code",
   "execution_count": 6,
   "id": "958d06c7-cbe1-48c9-aef1-f5ee0c404664",
   "metadata": {},
   "outputs": [
    {
     "name": "stdin",
     "output_type": "stream",
     "text": [
      "Enter the value: -4\n"
     ]
    },
    {
     "name": "stdout",
     "output_type": "stream",
     "text": [
      "-4.0 It is a Negative number\n"
     ]
    }
   ],
   "source": [
    "num=float(input(\"Enter the value:\"))\n",
    "if num > 0 :\n",
    "    print(f\"{num} It is a Positive number\")\n",
    "else :\n",
    "    if num < 0:\n",
    "        print(f\"{num} It is a Negative number\")\n",
    "    \n",
    "    else:\n",
    "        print(f\"{num} It is a Zero number\")"
   ]
  },
  {
   "cell_type": "code",
   "execution_count": 11,
   "id": "a2294fe1-449f-477f-9a2f-1b8c09c0ced3",
   "metadata": {},
   "outputs": [
    {
     "name": "stdin",
     "output_type": "stream",
     "text": [
      "Enter the your age: 16\n"
     ]
    },
    {
     "name": "stdout",
     "output_type": "stream",
     "text": [
      "16 Your a Teenager!\n"
     ]
    }
   ],
   "source": [
    "a=int(input(\"Enter the your age:\"))\n",
    "if a >= 13:\n",
    "    if a <= 19 :\n",
    "        print(f\"{a} Your a Teenager!\")\n",
    "    else:\n",
    "        print(f\"{a} Your not a Teenager!\")\n",
    "else:\n",
    "    print(f\"{a} Your not a Teenager!\")"
   ]
  },
  {
   "cell_type": "code",
   "execution_count": null,
   "id": "778ac59e-6551-4bb8-8cc6-4016d9345d34",
   "metadata": {},
   "outputs": [],
   "source": [
    "m=int(input(\"Enter the value :\"))\n",
    "if m == 1:\n",
    "    w=\"M\"\n",
    "else:\n",
    "    if m == 2:\n",
    "        "
   ]
  },
  {
   "cell_type": "code",
   "execution_count": null,
   "id": "e59a319c-82d3-434d-82f1-6a48d10e2138",
   "metadata": {},
   "outputs": [],
   "source": [
    "def discount_p():\n",
    "    try:\n",
    "        pur_pri=float(input(\"Enter the amount:\"))\n",
    "        if pur_pri >= 100:\n",
    "            dis=10\n",
    "        elif pur_pri >= 50:\n",
    "            dis=5\n",
    "        elif pur_pri >= 20:\n",
    "            dis= 2\n",
    "        else:\n",
    "            dis=0\n",
    "        final_pri=pur_pri-(pur_pri * dis /100)\n",
    "        print(f\"Purchase price:${pur_pri}\")\n",
    "        print(f\"Discount : {dis}\")\n",
    "        print(f\"Discounted price: ${final_pri}\")\n",
    "    except ValueError:\n",
    "        print(f\"Enter a valid value\")\n",
    "    except Exception as e :\n",
    "        print(f\"An unexcepted error occured:{e}\")\n",
    "if __name__==\"__main__\":\n",
    "    discount_p()"
   ]
  },
  {
   "cell_type": "code",
   "execution_count": null,
   "id": "7baec92a-cfd2-4c63-b1fb-de2d3c68e870",
   "metadata": {},
   "outputs": [],
   "source": [
    "def electri_bill():\n",
    "    try:\n",
    "        consumption=float(input(\"Enter the electricity consumption (in kwh):\"))\n",
    "        rate_slab1=0.10\n",
    "        rate_slab2=0.15\n",
    "\n",
    "        if consumption <= 100:\n",
    "            bill = consumption * rate_slab1\n",
    "        else:\n",
    "            bill = 100 * rate_slab1 + ( consumption - 100) * rate_slab2\n",
    "        print(f\" Your bill for {consumption} kwh is :${bill}\")\n",
    "    except ValueError:\n",
    "        print(f\"Enter a Valid value\")\n",
    "    except Exceptional as e:\n",
    "        print(f\"An unexpected error occured :{e}\")\n",
    "if __name__==\"__main__\":\n",
    "    electri_bill()\n",
    "        \n"
   ]
  },
  {
   "cell_type": "code",
   "execution_count": null,
   "id": "794b490c-3110-415f-a5a4-30a75e36dd48",
   "metadata": {},
   "outputs": [],
   "source": [
    "def sides_quadrilateral():\n",
    "    try:\n",
    "        side1 = float(input(\"Enter the first side:\"))\n",
    "        side2 = float(input(\"Enter the second side:\"))\n",
    "        side3 = float(input(\"Enter the third side :\"))\n",
    "        side4 = float(input(\"Enter the fourth side :\"))\n",
    "        \n",
    "        angle1 = float(input(\"Enter the 1st angle:\"))\n",
    "        angle2 = float(input(\"Enter the 2nd angle :\"))\n",
    "        angle3 = float(input(\"Enter the 3rd angle :\"))\n",
    "        angle4 = float(input(\"Enter the 4th angle :\"))\n",
    "        \n",
    "        if side1 == side2 == side3 == side4 :\n",
    "            if angle1 == angle2 == angle3 == angle4 == 90:\n",
    "                print(f\"Square\")\n",
    "            else:\n",
    "                print(\"Rhombus\")\n",
    "        elif side1 == side2 and side2 == side3 :\n",
    "            if angle1==angle2 == angle2==angle3==90:\n",
    "                print(\"Rectangle\")\n",
    "            else:\n",
    "                print(\"Parallelogram\")\n",
    "        else:\n",
    "            print(\"Its a general quadrilateral.\")\n",
    "            \n",
    "    except ValueError:\n",
    "        print(\"Enter a valid value\")\n",
    "    except Exception as e:\n",
    "        print(\"An exceptional occured\")\n",
    "        \n",
    "if __name__==\"__main__\":\n",
    "    sides_quadrilateral()\n"
   ]
  },
  {
   "cell_type": "code",
   "execution_count": null,
   "id": "a75c3396-92b4-427e-a671-e424191396a8",
   "metadata": {},
   "outputs": [],
   "source": [
    "def seasons():\n",
    "    try:\n",
    "        a = input(\"Enter the season :\").lower()\n",
    "        barish=[\"feb\",\"mar\",\"apr\",\"may\",]\n",
    "        garmi=[\"jun\",\"jul\",\"aug\",\"sep\"]\n",
    "        sardi=[\"oct\",\"nov\",\"dec\",\"jan\"]\n",
    "        \n",
    "        if a in barish:\n",
    "            m = \"barish\"\n",
    "        elif a in garmi:\n",
    "            m = \" garmi\"\n",
    "        elif a in sardi:\n",
    "            m= \"sardi\"\n",
    "        else:\n",
    "            m=\"invalid input\"\n",
    "            \n",
    "        print(f\"The season for {a.capitalize()} is {m}\")\n",
    "        \n",
    "    except ValueError:\n",
    "        print(\"Enter a valid value:\")\n",
    "    except Exception as e:\n",
    "        print(f\"an exception occcured:{e}\")\n",
    "if __name__ == \"__main__\":\n",
    "    seasons()\n"
   ]
  },
  {
   "cell_type": "code",
   "execution_count": null,
   "id": "346dae59-69bc-4d7c-a88d-50ac05e3c126",
   "metadata": {},
   "outputs": [],
   "source": [
    "num1=float(input(\"enter the value:\"))\n",
    "if num1 % 2 == 0:\n",
    "    print(\"the number is positive!\")\n",
    "else:\n",
    "    print(\"the number is negative!\")"
   ]
  },
  {
   "cell_type": "code",
   "execution_count": null,
   "id": "bf74142a-0987-4697-8b2b-65d07c3eb8d0",
   "metadata": {},
   "outputs": [],
   "source": [
    "voting_age=float(input(\"Enter the age!:\"))\n",
    "if voting_age >= 18:\n",
    "    print(\"You'r Eligible to vote!\")\n",
    "else:\n",
    "    print(\" Sorry You'r not Eligible to vote!\")"
   ]
  },
  {
   "cell_type": "code",
   "execution_count": 2,
   "id": "02cb1178-938c-475f-9a80-ac08713af315",
   "metadata": {},
   "outputs": [
    {
     "name": "stdin",
     "output_type": "stream",
     "text": [
      "Enter the first number!: 1\n",
      "Enter the second number!: 1\n"
     ]
    },
    {
     "name": "stdout",
     "output_type": "stream",
     "text": [
      "The Second number is maximum!\n"
     ]
    }
   ],
   "source": [
    "num_1=float(input(\"Enter the first number!:\"))\n",
    "num_2=float(input(\"Enter the second number!:\"))\n",
    "if (num_1 > num_2):\n",
    "    print(\"The Firt number is maximum!\")\n",
    "else:\n",
    "    print(\"The Second number is maximum!\")\n",
    "    "
   ]
  },
  {
   "cell_type": "code",
   "execution_count": null,
   "id": "bf4283aa-e341-49de-bcb7-c8ca5d405944",
   "metadata": {},
   "outputs": [],
   "source": [
    "year = int(input(\"Enter a year: \"))\n",
    "if (year % 4 ==0 and year % 100 !=0) or (year % 400 == 0):\n",
    "    print(f\"{year} is a leap year.\")\n",
    "else:\n",
    "    print(f\"{year} is not a leap year.\")\n"
   ]
  },
  {
   "cell_type": "code",
   "execution_count": null,
   "id": "cfc850fc-df02-457c-bef9-12948c7ee730",
   "metadata": {},
   "outputs": [],
   "source": [
    "stri=input(\"Enter the String!:\")\n",
    "stri=stri.lower()\n",
    "if stri in ['a','e','i','o','u']:\n",
    "    print(f\"{stri} is a vowel!\")\n",
    "else:\n",
    "    print(f\"{stri} is consonent!\")\n"
   ]
  },
  {
   "cell_type": "code",
   "execution_count": null,
   "id": "e2b8096f-c42a-470e-9d61-d903c252a962",
   "metadata": {},
   "outputs": [],
   "source": [
    "number1=float(input(\"Enter the 1st number:\"))\n",
    "number2=float(input(\"Enter the 2nd number:\"))\n",
    "number3=float(input(\"Enter the 3rd number:\"))\n",
    "if (number1 > number2) or (number1 > number3):\n",
    "    print(\"The 1st number is largest!\")\n",
    "if ( number2 > number1) or (number2 > number3):\n",
    "        print(\"The 2nd number is largest!\")\n",
    "else:\n",
    "    print(\"The 3rd number  is largest!\")"
   ]
  },
  {
   "cell_type": "code",
   "execution_count": null,
   "id": "bda11060-0071-4383-8c10-3fd0220191f7",
   "metadata": {},
   "outputs": [],
   "source": [
    "score=float(input(\"Enter the Score:\"))\n",
    "if score >= 90:\n",
    "    m=\"A\"\n",
    "elif score >= 80:\n",
    "    m=\"B\"\n",
    "elif score >= 70:\n",
    "    m=\"C\"\n",
    "elif score >= 60:\n",
    "    m=\"D\"\n",
    "else:\n",
    "    m=\"fail\"\n",
    "print(f\" The student's score is {m}\")"
   ]
  },
  {
   "cell_type": "code",
   "execution_count": null,
   "id": "dc657d57-5bf8-43fa-8879-bf957badfad6",
   "metadata": {},
   "outputs": [],
   "source": []
  },
  {
   "cell_type": "code",
   "execution_count": null,
   "id": "06a13242-1cad-4f1d-a15b-5dde51231125",
   "metadata": {},
   "outputs": [],
   "source": []
  },
  {
   "cell_type": "code",
   "execution_count": null,
   "id": "a45d9ffe-0e68-4d99-9c9b-ced4a30d4e47",
   "metadata": {},
   "outputs": [],
   "source": []
  },
  {
   "cell_type": "code",
   "execution_count": null,
   "id": "6ed64b8f-406f-40e8-a632-721a1d44c882",
   "metadata": {},
   "outputs": [],
   "source": []
  },
  {
   "cell_type": "code",
   "execution_count": null,
   "id": "dff02e25-6573-424a-a15f-d099e917a486",
   "metadata": {},
   "outputs": [],
   "source": []
  }
 ],
 "metadata": {
  "kernelspec": {
   "display_name": "Python 3 (ipykernel)",
   "language": "python",
   "name": "python3"
  },
  "language_info": {
   "codemirror_mode": {
    "name": "ipython",
    "version": 3
   },
   "file_extension": ".py",
   "mimetype": "text/x-python",
   "name": "python",
   "nbconvert_exporter": "python",
   "pygments_lexer": "ipython3",
   "version": "3.10.8"
  }
 },
 "nbformat": 4,
 "nbformat_minor": 5
}
