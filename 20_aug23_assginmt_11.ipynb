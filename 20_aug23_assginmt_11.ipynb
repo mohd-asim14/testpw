{
 "cells": [
  {
   "cell_type": "code",
   "execution_count": 1,
   "id": "2c83ef0d-677a-4622-b85f-e0561630831a",
   "metadata": {},
   "outputs": [
    {
     "name": "stdout",
     "output_type": "stream",
     "text": [
      "reemas misa\n"
     ]
    }
   ],
   "source": [
    "#reversing the string\n",
    "e=\"asim sameer\"\n",
    "print(e[::-1])\n"
   ]
  },
  {
   "cell_type": "code",
   "execution_count": 3,
   "id": "bf018f79-8570-41d9-98e0-2037a95a1918",
   "metadata": {},
   "outputs": [
    {
     "name": "stdin",
     "output_type": "stream",
     "text": [
      "Enter the String : mom\n"
     ]
    },
    {
     "name": "stdout",
     "output_type": "stream",
     "text": [
      "Palindrome\n"
     ]
    }
   ],
   "source": [
    "#palindrome checking\n",
    "p=input(\"Enter the String :\")\n",
    "if p == p[::-1]:\n",
    "    print(\"Palindrome\")\n",
    "else:\n",
    "    print(\"Not a Palindrome\")"
   ]
  },
  {
   "cell_type": "code",
   "execution_count": 7,
   "id": "8c016a20-8ee8-407a-91c7-613c24d26030",
   "metadata": {},
   "outputs": [
    {
     "data": {
      "text/plain": [
       "'ASIM SAMEER'"
      ]
     },
     "execution_count": 7,
     "metadata": {},
     "output_type": "execute_result"
    }
   ],
   "source": [
    "a=\"asim sameer\"\n",
    "a.upper()"
   ]
  },
  {
   "cell_type": "code",
   "execution_count": 33,
   "id": "342e4cda-94b2-442f-ae43-a04ee3de8069",
   "metadata": {},
   "outputs": [
    {
     "data": {
      "text/plain": [
       "'asim'"
      ]
     },
     "execution_count": 33,
     "metadata": {},
     "output_type": "execute_result"
    }
   ],
   "source": [
    "r=\"asim\"\n",
    "r.lower()\n"
   ]
  },
  {
   "cell_type": "code",
   "execution_count": 17,
   "id": "25f8668d-9df6-499b-8b0c-6d875e92b49c",
   "metadata": {},
   "outputs": [
    {
     "name": "stdin",
     "output_type": "stream",
     "text": [
      "Enter a String: aa\n"
     ]
    },
    {
     "name": "stdout",
     "output_type": "stream",
     "text": [
      "2\n"
     ]
    }
   ],
   "source": [
    "vowels=['a','e','i','o','u','A','E','I','O','U']\n",
    "strr=input(\"Enter a String:\")\n",
    "count=0\n",
    "for strr in strr:\n",
    "    if strr in vowels:\n",
    "        count += 1\n",
    "print(count)\n",
    "    \n",
    "    \n",
    "    "
   ]
  },
  {
   "cell_type": "code",
   "execution_count": 23,
   "id": "93764232-f876-437c-82fe-212247bce625",
   "metadata": {},
   "outputs": [
    {
     "name": "stdin",
     "output_type": "stream",
     "text": [
      "Enter a String: aasim\n"
     ]
    },
    {
     "name": "stdout",
     "output_type": "stream",
     "text": [
      "2\n"
     ]
    }
   ],
   "source": [
    "consonants=[ 'B','C','D','F','G','J','K','L','M','N','P','Q','S','T','V','X','Z','b','c','d','f','g','j','k','l','m','n','p','q','s','t','v','x','z','H','R','W','Y','h','w','r','y' ]\n",
    "strr=input(\"Enter a String:\")\n",
    "count=0\n",
    "for strr in strr:\n",
    "    if strr in consonants:\n",
    "        count += 1\n",
    "print(count)\n",
    "    "
   ]
  },
  {
   "cell_type": "code",
   "execution_count": 25,
   "id": "3a01cccc-9c95-4ce0-a0c5-2bb6bb47ee36",
   "metadata": {},
   "outputs": [
    {
     "data": {
      "text/plain": [
       "'asim'"
      ]
     },
     "execution_count": 25,
     "metadata": {},
     "output_type": "execute_result"
    }
   ],
   "source": [
    "aa=\"   asim  \"\n",
    "aa.strip()"
   ]
  },
  {
   "cell_type": "code",
   "execution_count": 27,
   "id": "33eed0a1-b1f3-4437-abc7-e81324bc24ee",
   "metadata": {},
   "outputs": [
    {
     "data": {
      "text/plain": [
       "'asim'"
      ]
     },
     "execution_count": 27,
     "metadata": {},
     "output_type": "execute_result"
    }
   ],
   "source": [
    "am=\"    asim  \"\n",
    "am.replace(\" \",\"\")"
   ]
  },
  {
   "cell_type": "code",
   "execution_count": 34,
   "id": "36ca35f8-d0c8-4702-b3ab-00fddeeadc1e",
   "metadata": {},
   "outputs": [
    {
     "name": "stdin",
     "output_type": "stream",
     "text": [
      "Enter a String: Asim\n"
     ]
    },
    {
     "name": "stdout",
     "output_type": "stream",
     "text": [
      "4\n"
     ]
    }
   ],
   "source": [
    "astr=['a','b','c','d','e','f','g','h','i','j','k','l','m','n','o','p','q','r','s','t','u','v','w','x','y','z','A','B','C','D','E','F','G','H','I','J','K','L','M','N','O','P','Q','R','S','T','U','V','W','X','Y','Z']\n",
    "strr=input(\"Enter a String:\")\n",
    "count=0\n",
    "for strr in strr:\n",
    "    if strr in astr:\n",
    "        count += 1\n",
    "print(count)\n",
    "    "
   ]
  },
  {
   "cell_type": "code",
   "execution_count": 2,
   "id": "55ae2f5e-d0d4-4fb6-843a-755752323abb",
   "metadata": {},
   "outputs": [
    {
     "name": "stdin",
     "output_type": "stream",
     "text": [
      "Enter a String: my first name is asim and last name is sameer\n",
      "To check whether it's contain: name\n"
     ]
    },
    {
     "name": "stdout",
     "output_type": "stream",
     "text": [
      "Available\n"
     ]
    }
   ],
   "source": [
    "word1=input(\"Enter a String:\")\n",
    "ex=input(\"To check whether it's contain:\")\n",
    "if ex in word1:\n",
    "    print(\"Available\")\n",
    "else:\n",
    "    print(\"Not Available\")\n"
   ]
  },
  {
   "cell_type": "code",
   "execution_count": 2,
   "id": "0eeaebfd-d9df-49be-a4b8-99cf6e8a7ecc",
   "metadata": {},
   "outputs": [
    {
     "name": "stdin",
     "output_type": "stream",
     "text": [
      "Enter a String: ammmim\n"
     ]
    },
    {
     "data": {
      "text/plain": [
       "'assssssiss'"
      ]
     },
     "execution_count": 2,
     "metadata": {},
     "output_type": "execute_result"
    }
   ],
   "source": [
    "string=input(\"Enter a String:\")\n",
    "string.replace(\"m\",\"ss\")"
   ]
  },
  {
   "cell_type": "code",
   "execution_count": 42,
   "id": "135d9fa3-e7d5-485f-bf27-9a7ac0c600a8",
   "metadata": {},
   "outputs": [
    {
     "name": "stdin",
     "output_type": "stream",
     "text": [
      "Enter a String: my name is asim and my age is 21\n",
      "Enter the count word: is\n"
     ]
    },
    {
     "name": "stdout",
     "output_type": "stream",
     "text": [
      "The word 'is' appears 2 times in the String.\n"
     ]
    }
   ],
   "source": [
    "input_string = input(\"Enter a String:\")\n",
    "count_word = input(\"Enter the count word:\")\n",
    "count = input_string.count(count_word)\n",
    "print(f\"The word '{count_word}' appears {count} times in the String.\")"
   ]
  },
  {
   "cell_type": "code",
   "execution_count": 16,
   "id": "7694b6c9-f2f7-45c4-ae9a-6de8192ba95e",
   "metadata": {},
   "outputs": [
    {
     "name": "stdin",
     "output_type": "stream",
     "text": [
      "Enter the String: my first name is asim and last name is sameer \n",
      "Enter word: name\n"
     ]
    },
    {
     "name": "stdout",
     "output_type": "stream",
     "text": [
      " first occurrence of 'name' is 9\n"
     ]
    }
   ],
   "source": [
    "istr = input(\"Enter the String:\")\n",
    "word = input(\"Enter word:\")\n",
    "first_occurrence=istr.index(word)\n",
    "print(f\" first occurrence of '{word}' is {first_occurrence}\")"
   ]
  },
  {
   "cell_type": "code",
   "execution_count": 9,
   "id": "00e19898-a740-4ab7-81b7-ef83a3dba737",
   "metadata": {},
   "outputs": [
    {
     "name": "stdout",
     "output_type": "stream",
     "text": [
      "The Last Occurrence is is 43\n"
     ]
    }
   ],
   "source": [
    "string2= \"This is an example sentence. This sentence is an example.\"\n",
    "word2 =\"is\"\n",
    "last_occ = string2.rfind(word2)\n",
    "if last_occ != -1:\n",
    "    print(f\"The Last Occurrence {word2} is {last_occ}\")\n",
    "else:\n",
    "    print(\"Not found the word\")\n",
    "    "
   ]
  },
  {
   "cell_type": "code",
   "execution_count": 16,
   "id": "4641db3b-6729-4889-887b-6b1a5c14121c",
   "metadata": {},
   "outputs": [
    {
     "name": "stdin",
     "output_type": "stream",
     "text": [
      "Enter the line : My Name is Asim Sameer\n"
     ]
    },
    {
     "name": "stdout",
     "output_type": "stream",
     "text": [
      "['My', 'Name', 'is', 'Asim', 'Sameer']\n"
     ]
    }
   ],
   "source": [
    "str1=input(\"Enter the line :\")\n",
    "split=str1.split()\n",
    "print(split)"
   ]
  },
  {
   "cell_type": "code",
   "execution_count": 31,
   "id": "793aeb5e-f115-4f41-824b-67765d99f556",
   "metadata": {},
   "outputs": [
    {
     "name": "stdout",
     "output_type": "stream",
     "text": [
      "My,Nmae is Asim sameer\n"
     ]
    }
   ],
   "source": [
    "l1=[\"My,\",\"Nmae \",\"is \"]\n",
    "l2=[\"Asim\",\" sameer\"]\n",
    "l3=\"\"\n",
    "for ele in l1:\n",
    "    l3= l3 + ele\n",
    "for ele in l2:\n",
    "    l3 = l3 + ele\n",
    "\n",
    "print(l3)\n"
   ]
  },
  {
   "cell_type": "code",
   "execution_count": 41,
   "id": "f56a532e-a2f2-4c22-bfdc-df2d7e43de0b",
   "metadata": {},
   "outputs": [
    {
     "name": "stdin",
     "output_type": "stream",
     "text": [
      "Enter a String asim sameer \n"
     ]
    },
    {
     "name": "stdout",
     "output_type": "stream",
     "text": [
      "asim_sameer_\n"
     ]
    }
   ],
   "source": [
    "s=input(\"Enter a String\")\n",
    "r=s.replace(\" \",\"_\")\n",
    "print(r)"
   ]
  },
  {
   "cell_type": "code",
   "execution_count": 45,
   "id": "3684994f-28c9-4da2-842b-adfb42439f3e",
   "metadata": {},
   "outputs": [
    {
     "name": "stdout",
     "output_type": "stream",
     "text": [
      "It's Available\n"
     ]
    }
   ],
   "source": [
    "phrase=\"The Boy is a Student of Pw and he is a intelligent\"\n",
    "spec_phr=\"is\"\n",
    "if spec_phr in phrase:\n",
    "    print(\"It's Available\")\n",
    "else:\n",
    "    print(\"Not Available\")\n",
    "    "
   ]
  },
  {
   "cell_type": "code",
   "execution_count": 49,
   "id": "53213d76-8615-4363-aa4a-7691d4286edf",
   "metadata": {},
   "outputs": [
    {
     "name": "stdin",
     "output_type": "stream",
     "text": [
      "Enter a String: asim\n"
     ]
    },
    {
     "name": "stdout",
     "output_type": "stream",
     "text": [
      "Asim\n"
     ]
    }
   ],
   "source": [
    "t=input(\"Enter a String:\")\n",
    "s=t.title()\n",
    "print(s)"
   ]
  },
  {
   "cell_type": "code",
   "execution_count": 63,
   "id": "6bb59925-56c8-434a-824d-f7dcd3540b84",
   "metadata": {},
   "outputs": [
    {
     "name": "stdin",
     "output_type": "stream",
     "text": [
      "Enter a string: my name is asim sameer\n"
     ]
    },
    {
     "name": "stdout",
     "output_type": "stream",
     "text": [
      "--> sameer\n"
     ]
    }
   ],
   "source": [
    "phrase=input(\"Enter a string:\")\n",
    "word_=phrase.split()\n",
    "longest=max(word_,key=len)\n",
    "print(\"-->\",longest)"
   ]
  },
  {
   "cell_type": "code",
   "execution_count": 65,
   "id": "401955a9-a1c7-4d36-bf46-e3437bd3573b",
   "metadata": {},
   "outputs": [
    {
     "name": "stdin",
     "output_type": "stream",
     "text": [
      "Enter a string: my name is i\n"
     ]
    },
    {
     "name": "stdout",
     "output_type": "stream",
     "text": [
      "--> i\n"
     ]
    }
   ],
   "source": [
    "phrase=input(\"Enter a string:\")\n",
    "word_=phrase.split()\n",
    "longest=min(word_,key=len)\n",
    "print(\"-->\",longest)"
   ]
  },
  {
   "cell_type": "code",
   "execution_count": 70,
   "id": "3890e522-71ad-41cc-9f29-2116e0aae35c",
   "metadata": {},
   "outputs": [
    {
     "name": "stdin",
     "output_type": "stream",
     "text": [
      "Enter a String: my name\n"
     ]
    },
    {
     "name": "stdout",
     "output_type": "stream",
     "text": [
      "eman ym\n"
     ]
    }
   ],
   "source": [
    "r=input(\"Enter a String:\")\n",
    "l=r[::-1]\n",
    "print(l)"
   ]
  },
  {
   "cell_type": "code",
   "execution_count": 71,
   "id": "71109aa7-0f0c-4503-af00-49253871bb75",
   "metadata": {},
   "outputs": [
    {
     "name": "stdin",
     "output_type": "stream",
     "text": [
      "Enter a String: asim123\n"
     ]
    },
    {
     "name": "stdout",
     "output_type": "stream",
     "text": [
      "True\n"
     ]
    }
   ],
   "source": [
    "a=input(\"Enter a String:\")\n",
    "m=a.isalnum()\n",
    "print(m)"
   ]
  },
  {
   "cell_type": "code",
   "execution_count": 1,
   "id": "2368fcb8-c21b-4351-ac76-ce92d66af21c",
   "metadata": {},
   "outputs": [],
   "source": [
    "# 1. Create a list with integers from 1 to 10.\n",
    "my_list = list(range(1, 11))"
   ]
  },
  {
   "cell_type": "code",
   "execution_count": 3,
   "id": "9e946ad1-5f57-41af-90bf-6b6a6fdb25b4",
   "metadata": {},
   "outputs": [],
   "source": [
    "# 2. Find the length of a list without using the `len()` function.\n",
    "list_length = 0\n",
    "for _ in my_list:\n",
    "    list_length += 1\n"
   ]
  },
  {
   "cell_type": "code",
   "execution_count": null,
   "id": "48ef5d5a-3087-4c28-b19b-9ee294e22873",
   "metadata": {},
   "outputs": [],
   "source": [
    "# 3. Append an element to the end of a list.\n",
    "my_list.append(11)"
   ]
  },
  {
   "cell_type": "code",
   "execution_count": null,
   "id": "0ce00364-a685-4c74-91bd-2fb3e0b0d393",
   "metadata": {},
   "outputs": [],
   "source": [
    "# 4. Insert an element at a specific index in a list.\n",
    "my_list.insert(5, 12)  # Inserts 12 at index 5 (6th position).\n"
   ]
  },
  {
   "cell_type": "code",
   "execution_count": null,
   "id": "d09cfa72-304c-4ea5-8e1c-21f1205fa916",
   "metadata": {},
   "outputs": [],
   "source": [
    "# 5. Remove an element from a list by its value.\n",
    "my_list.remove(5)  # Removes the first occurrence of 5.\n"
   ]
  },
  {
   "cell_type": "code",
   "execution_count": null,
   "id": "f50a648b-bf4d-43c5-b935-47d0777ed7e8",
   "metadata": {},
   "outputs": [],
   "source": [
    "# 6. Remove an element from a list by its index.\n",
    "removed_element = my_list.pop(2)  # Removes and returns the element at index 2."
   ]
  },
  {
   "cell_type": "code",
   "execution_count": 4,
   "id": "49631859-67f5-415b-abfd-476ea3691118",
   "metadata": {},
   "outputs": [],
   "source": [
    "# 7. Check if an element exists in a list.\n",
    "element_exists = 7 in my_list  # Checks if 7 is in the list."
   ]
  },
  {
   "cell_type": "code",
   "execution_count": null,
   "id": "44e3c051-9cdc-4f77-a5bf-00f664502928",
   "metadata": {},
   "outputs": [],
   "source": [
    "# 8. Find the index of the first occurrence of an element in a list.\n",
    "index_of_element = my_list.index(8)  # Finds the index of the first occurrence of 8."
   ]
  },
  {
   "cell_type": "code",
   "execution_count": null,
   "id": "60c4f7da-0029-4f8f-9243-0348a4308ddf",
   "metadata": {},
   "outputs": [],
   "source": [
    "# 9. Count the occurrences of an element in a list.\n",
    "count_of_element = my_list.count(9)  # Counts the occurrences of 9 in the list.\n"
   ]
  },
  {
   "cell_type": "code",
   "execution_count": null,
   "id": "437822fb-ccb9-4288-a8a5-3d53e2ea7a79",
   "metadata": {},
   "outputs": [],
   "source": [
    "# 10. Reverse the order of elements in a list.\n",
    "my_list.reverse()"
   ]
  },
  {
   "cell_type": "code",
   "execution_count": 7,
   "id": "4f616fd8-08a3-4361-a291-38bac759364c",
   "metadata": {},
   "outputs": [
    {
     "name": "stdout",
     "output_type": "stream",
     "text": [
      "Modified List: [11, 10, 9, 8, 7, 6, 12, 4, 2, 1]\n",
      "List Length: 10\n",
      "Removed Element: 3\n",
      "Element Exists (7 in List): True\n",
      "Index of Element (First Occurrence of 8): 6\n",
      "Count of Element (Occurrences of 9): 1\n"
     ]
    }
   ],
   "source": [
    "print(\"Modified List:\", my_list)\n",
    "print(\"List Length:\", list_length)\n",
    "print(\"Removed Element:\", removed_element)\n",
    "print(\"Element Exists (7 in List):\", element_exists)\n",
    "print(\"Index of Element (First Occurrence of 8):\", index_of_element)\n",
    "print(\"Count of Element (Occurrences of 9):\", count_of_element)\n"
   ]
  },
  {
   "cell_type": "code",
   "execution_count": 8,
   "id": "fd089347-8dc2-4aae-991f-38f89d203955",
   "metadata": {},
   "outputs": [
    {
     "name": "stdout",
     "output_type": "stream",
     "text": [
      "Index of Element (First Occurrence of 5): 4\n",
      "Element Exists (7 in Tuple): True\n",
      "Converted List: [1, 2, 3, 4, 5, 6, 7, 8, 9, 10]\n",
      "Converted Tuple: (1, 2, 3, 4, 5, 6, 7, 8, 9, 10)\n",
      "Unpacked Elements (a, b, c): 1 2 3\n",
      "Tuple of Even Numbers: (2, 4, 6, 8, 10)\n",
      "Tuple of Odd Numbers: (1, 3, 5, 7, 9)\n",
      "Concatenated Tuple: (1, 2, 3, 4, 5, 6, 7, 8, 9, 10, 2, 4, 6, 8, 10)\n",
      "Repeated Tuple: (1, 2, 3, 4, 5, 6, 7, 8, 9, 10, 1, 2, 3, 4, 5, 6, 7, 8, 9, 10, 1, 2, 3, 4, 5, 6, 7, 8, 9, 10)\n",
      "Is Tuple Empty: False\n",
      "Nested Tuple: ((1, 2), (3, 4))\n",
      "Accessed First Element of Nested Tuple: (1, 2)\n",
      "Single Element Tuple: (42,)\n",
      "Comparison Result: False\n",
      "Sliced Tuple: (3, 4, 5)\n"
     ]
    }
   ],
   "source": [
    "# Given tuple\n",
    "my_tuple = (1, 2, 3, 4, 5, 6, 7, 8, 9, 10)\n",
    "\n",
    "# 1. Find the index of the first occurrence of an element in a tuple.\n",
    "index_of_element = my_tuple.index(5)  # Finds the index of the first occurrence of 5.\n",
    "\n",
    "# 2. Check if an element exists in a tuple.\n",
    "element_exists = 7 in my_tuple  # Checks if 7 is in the tuple.\n",
    "\n",
    "# 3. Convert a tuple to a list.\n",
    "my_list = list(my_tuple)\n",
    "\n",
    "# 4. Convert a list to a tuple.\n",
    "my_new_tuple = tuple(my_list)\n",
    "\n",
    "# 5. Unpack the elements of a tuple into variables.\n",
    "a, b, c = my_tuple[:3]  # Unpacks the first three elements into variables a, b, and c.\n",
    "\n",
    "# 6. Create a tuple of even numbers from 1 to 10.\n",
    "even_numbers = tuple(range(2, 11, 2))  # Creates a tuple of even numbers from 2 to 10.\n",
    "\n",
    "# 7. Create a tuple of odd numbers from 1 to 10.\n",
    "odd_numbers = tuple(range(1, 11, 2))  # Creates a tuple of odd numbers from 1 to 9.\n",
    "\n",
    "# 8. Concatenate two tuples.\n",
    "concatenated_tuple = my_tuple + even_numbers  # Concatenates my_tuple and even_numbers.\n",
    "\n",
    "# 9. Repeat a tuple three times.\n",
    "repeated_tuple = my_tuple * 3  # Repeats my_tuple three times.\n",
    "\n",
    "# 10. Check if a tuple is empty.\n",
    "is_empty = not my_tuple  # Checks if my_tuple is empty.\n",
    "\n",
    "# 11. Create a nested tuple.\n",
    "nested_tuple = ((1, 2), (3, 4))\n",
    "\n",
    "# 12. Access the first element of a nested tuple.\n",
    "first_element = nested_tuple[0]  # Accesses the first element ((1, 2)).\n",
    "\n",
    "# 13. Create a tuple with a single element.\n",
    "single_element_tuple = (42,)\n",
    "\n",
    "# 14. Compare two tuples.\n",
    "comparison_result = (1, 2, 3) == (1, 2, 4)  # Compares two tuples for equality.\n",
    "\n",
    "# 15. Delete a tuple.\n",
    "del my_tuple  # Deletes the entire tuple.\n",
    "\n",
    "# 16. Slice a tuple.\n",
    "sliced_tuple = my_new_tuple[2:5]  # Slices elements from index 2 to 4 (5-1).\n",
    "\n",
    "# Printing the results\n",
    "print(\"Index of Element (First Occurrence of 5):\", index_of_element)\n",
    "print(\"Element Exists (7 in Tuple):\", element_exists)\n",
    "print(\"Converted List:\", my_list)\n",
    "print(\"Converted Tuple:\", my_new_tuple)\n",
    "print(\"Unpacked Elements (a, b, c):\", a, b, c)\n",
    "print(\"Tuple of Even Numbers:\", even_numbers)\n",
    "print(\"Tuple of Odd Numbers:\", odd_numbers)\n",
    "print(\"Concatenated Tuple:\", concatenated_tuple)\n",
    "print(\"Repeated Tuple:\", repeated_tuple)\n",
    "print(\"Is Tuple Empty:\", is_empty)\n",
    "print(\"Nested Tuple:\", nested_tuple)\n",
    "print(\"Accessed First Element of Nested Tuple:\", first_element)\n",
    "print(\"Single Element Tuple:\", single_element_tuple)\n",
    "print(\"Comparison Result:\", comparison_result)\n",
    "print(\"Sliced Tuple:\", sliced_tuple)\n"
   ]
  }
 ],
 "metadata": {
  "kernelspec": {
   "display_name": "Python 3 (ipykernel)",
   "language": "python",
   "name": "python3"
  },
  "language_info": {
   "codemirror_mode": {
    "name": "ipython",
    "version": 3
   },
   "file_extension": ".py",
   "mimetype": "text/x-python",
   "name": "python",
   "nbconvert_exporter": "python",
   "pygments_lexer": "ipython3",
   "version": "3.10.8"
  }
 },
 "nbformat": 4,
 "nbformat_minor": 5
}
